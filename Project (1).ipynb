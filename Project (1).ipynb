{
  "nbformat": 4,
  "nbformat_minor": 0,
  "metadata": {
    "colab": {
      "provenance": []
    },
    "kernelspec": {
      "name": "python3",
      "display_name": "Python 3"
    },
    "language_info": {
      "name": "python"
    }
  },
  "cells": [
    {
      "cell_type": "code",
      "source": [
        "import pandas as pd\n",
        "import numpy as np\n",
        "from sklearn.preprocessing import LabelEncoder,StandardScaler\n",
        "from sklearn.model_selection import train_test_split,GridSearchCV\n",
        "from sklearn.linear_model import LogisticRegression\n",
        "from sklearn.tree import DecisionTreeClassifier\n",
        "from sklearn.ensemble import RandomForestClassifier\n",
        "from sklearn.naive_bayes import MultinomialNB\n",
        "from sklearn.metrics import accuracy_score,classification_report,confusion_matrix\n",
        "import nltk\n",
        "import re\n",
        "from nltk.corpus import stopwords\n",
        "from nltk.stem import WordNetLemmatizer\n",
        "from nltk.stem import PorterStemmer\n",
        "nltk.download('stopwords')\n",
        "nltk.download('wordnet')\n",
        "nltk.download('punkt')"
      ],
      "metadata": {
        "id": "xXwz4uz8Yp8X",
        "colab": {
          "base_uri": "https://localhost:8080/"
        },
        "outputId": "8cdae513-d9ef-4cfc-b26b-4f5409c91673",
        "collapsed": true
      },
      "execution_count": null,
      "outputs": [
        {
          "output_type": "stream",
          "name": "stderr",
          "text": [
            "[nltk_data] Downloading package stopwords to /root/nltk_data...\n",
            "[nltk_data]   Package stopwords is already up-to-date!\n",
            "[nltk_data] Downloading package wordnet to /root/nltk_data...\n",
            "[nltk_data]   Package wordnet is already up-to-date!\n",
            "[nltk_data] Downloading package punkt to /root/nltk_data...\n",
            "[nltk_data]   Package punkt is already up-to-date!\n"
          ]
        },
        {
          "output_type": "execute_result",
          "data": {
            "text/plain": [
              "True"
            ]
          },
          "metadata": {},
          "execution_count": 18
        }
      ]
    },
    {
      "cell_type": "code",
      "source": [
        "dt=pd.read_csv(\"fake_and_real_news.csv\")\n",
        "dt.head()"
      ],
      "metadata": {
        "colab": {
          "base_uri": "https://localhost:8080/",
          "height": 206
        },
        "id": "_riotl2uZjLN",
        "outputId": "cc158799-c3a5-4d09-93ff-120e2a0dd467"
      },
      "execution_count": null,
      "outputs": [
        {
          "output_type": "execute_result",
          "data": {
            "text/plain": [
              "                                                Text label\n",
              "0   Top Trump Surrogate BRUTALLY Stabs Him In The...  Fake\n",
              "1  U.S. conservative leader optimistic of common ...  Real\n",
              "2  Trump proposes U.S. tax overhaul, stirs concer...  Real\n",
              "3   Court Forces Ohio To Allow Millions Of Illega...  Fake\n",
              "4  Democrats say Trump agrees to work on immigrat...  Real"
            ],
            "text/html": [
              "\n",
              "  <div id=\"df-a09e5dd2-e70c-4750-9a7a-e93b4b5cddec\" class=\"colab-df-container\">\n",
              "    <div>\n",
              "<style scoped>\n",
              "    .dataframe tbody tr th:only-of-type {\n",
              "        vertical-align: middle;\n",
              "    }\n",
              "\n",
              "    .dataframe tbody tr th {\n",
              "        vertical-align: top;\n",
              "    }\n",
              "\n",
              "    .dataframe thead th {\n",
              "        text-align: right;\n",
              "    }\n",
              "</style>\n",
              "<table border=\"1\" class=\"dataframe\">\n",
              "  <thead>\n",
              "    <tr style=\"text-align: right;\">\n",
              "      <th></th>\n",
              "      <th>Text</th>\n",
              "      <th>label</th>\n",
              "    </tr>\n",
              "  </thead>\n",
              "  <tbody>\n",
              "    <tr>\n",
              "      <th>0</th>\n",
              "      <td>Top Trump Surrogate BRUTALLY Stabs Him In The...</td>\n",
              "      <td>Fake</td>\n",
              "    </tr>\n",
              "    <tr>\n",
              "      <th>1</th>\n",
              "      <td>U.S. conservative leader optimistic of common ...</td>\n",
              "      <td>Real</td>\n",
              "    </tr>\n",
              "    <tr>\n",
              "      <th>2</th>\n",
              "      <td>Trump proposes U.S. tax overhaul, stirs concer...</td>\n",
              "      <td>Real</td>\n",
              "    </tr>\n",
              "    <tr>\n",
              "      <th>3</th>\n",
              "      <td>Court Forces Ohio To Allow Millions Of Illega...</td>\n",
              "      <td>Fake</td>\n",
              "    </tr>\n",
              "    <tr>\n",
              "      <th>4</th>\n",
              "      <td>Democrats say Trump agrees to work on immigrat...</td>\n",
              "      <td>Real</td>\n",
              "    </tr>\n",
              "  </tbody>\n",
              "</table>\n",
              "</div>\n",
              "    <div class=\"colab-df-buttons\">\n",
              "\n",
              "  <div class=\"colab-df-container\">\n",
              "    <button class=\"colab-df-convert\" onclick=\"convertToInteractive('df-a09e5dd2-e70c-4750-9a7a-e93b4b5cddec')\"\n",
              "            title=\"Convert this dataframe to an interactive table.\"\n",
              "            style=\"display:none;\">\n",
              "\n",
              "  <svg xmlns=\"http://www.w3.org/2000/svg\" height=\"24px\" viewBox=\"0 -960 960 960\">\n",
              "    <path d=\"M120-120v-720h720v720H120Zm60-500h600v-160H180v160Zm220 220h160v-160H400v160Zm0 220h160v-160H400v160ZM180-400h160v-160H180v160Zm440 0h160v-160H620v160ZM180-180h160v-160H180v160Zm440 0h160v-160H620v160Z\"/>\n",
              "  </svg>\n",
              "    </button>\n",
              "\n",
              "  <style>\n",
              "    .colab-df-container {\n",
              "      display:flex;\n",
              "      gap: 12px;\n",
              "    }\n",
              "\n",
              "    .colab-df-convert {\n",
              "      background-color: #E8F0FE;\n",
              "      border: none;\n",
              "      border-radius: 50%;\n",
              "      cursor: pointer;\n",
              "      display: none;\n",
              "      fill: #1967D2;\n",
              "      height: 32px;\n",
              "      padding: 0 0 0 0;\n",
              "      width: 32px;\n",
              "    }\n",
              "\n",
              "    .colab-df-convert:hover {\n",
              "      background-color: #E2EBFA;\n",
              "      box-shadow: 0px 1px 2px rgba(60, 64, 67, 0.3), 0px 1px 3px 1px rgba(60, 64, 67, 0.15);\n",
              "      fill: #174EA6;\n",
              "    }\n",
              "\n",
              "    .colab-df-buttons div {\n",
              "      margin-bottom: 4px;\n",
              "    }\n",
              "\n",
              "    [theme=dark] .colab-df-convert {\n",
              "      background-color: #3B4455;\n",
              "      fill: #D2E3FC;\n",
              "    }\n",
              "\n",
              "    [theme=dark] .colab-df-convert:hover {\n",
              "      background-color: #434B5C;\n",
              "      box-shadow: 0px 1px 3px 1px rgba(0, 0, 0, 0.15);\n",
              "      filter: drop-shadow(0px 1px 2px rgba(0, 0, 0, 0.3));\n",
              "      fill: #FFFFFF;\n",
              "    }\n",
              "  </style>\n",
              "\n",
              "    <script>\n",
              "      const buttonEl =\n",
              "        document.querySelector('#df-a09e5dd2-e70c-4750-9a7a-e93b4b5cddec button.colab-df-convert');\n",
              "      buttonEl.style.display =\n",
              "        google.colab.kernel.accessAllowed ? 'block' : 'none';\n",
              "\n",
              "      async function convertToInteractive(key) {\n",
              "        const element = document.querySelector('#df-a09e5dd2-e70c-4750-9a7a-e93b4b5cddec');\n",
              "        const dataTable =\n",
              "          await google.colab.kernel.invokeFunction('convertToInteractive',\n",
              "                                                    [key], {});\n",
              "        if (!dataTable) return;\n",
              "\n",
              "        const docLinkHtml = 'Like what you see? Visit the ' +\n",
              "          '<a target=\"_blank\" href=https://colab.research.google.com/notebooks/data_table.ipynb>data table notebook</a>'\n",
              "          + ' to learn more about interactive tables.';\n",
              "        element.innerHTML = '';\n",
              "        dataTable['output_type'] = 'display_data';\n",
              "        await google.colab.output.renderOutput(dataTable, element);\n",
              "        const docLink = document.createElement('div');\n",
              "        docLink.innerHTML = docLinkHtml;\n",
              "        element.appendChild(docLink);\n",
              "      }\n",
              "    </script>\n",
              "  </div>\n",
              "\n",
              "\n",
              "<div id=\"df-715306bf-4cb9-4ead-bec4-f1aab6b963d4\">\n",
              "  <button class=\"colab-df-quickchart\" onclick=\"quickchart('df-715306bf-4cb9-4ead-bec4-f1aab6b963d4')\"\n",
              "            title=\"Suggest charts\"\n",
              "            style=\"display:none;\">\n",
              "\n",
              "<svg xmlns=\"http://www.w3.org/2000/svg\" height=\"24px\"viewBox=\"0 0 24 24\"\n",
              "     width=\"24px\">\n",
              "    <g>\n",
              "        <path d=\"M19 3H5c-1.1 0-2 .9-2 2v14c0 1.1.9 2 2 2h14c1.1 0 2-.9 2-2V5c0-1.1-.9-2-2-2zM9 17H7v-7h2v7zm4 0h-2V7h2v10zm4 0h-2v-4h2v4z\"/>\n",
              "    </g>\n",
              "</svg>\n",
              "  </button>\n",
              "\n",
              "<style>\n",
              "  .colab-df-quickchart {\n",
              "      --bg-color: #E8F0FE;\n",
              "      --fill-color: #1967D2;\n",
              "      --hover-bg-color: #E2EBFA;\n",
              "      --hover-fill-color: #174EA6;\n",
              "      --disabled-fill-color: #AAA;\n",
              "      --disabled-bg-color: #DDD;\n",
              "  }\n",
              "\n",
              "  [theme=dark] .colab-df-quickchart {\n",
              "      --bg-color: #3B4455;\n",
              "      --fill-color: #D2E3FC;\n",
              "      --hover-bg-color: #434B5C;\n",
              "      --hover-fill-color: #FFFFFF;\n",
              "      --disabled-bg-color: #3B4455;\n",
              "      --disabled-fill-color: #666;\n",
              "  }\n",
              "\n",
              "  .colab-df-quickchart {\n",
              "    background-color: var(--bg-color);\n",
              "    border: none;\n",
              "    border-radius: 50%;\n",
              "    cursor: pointer;\n",
              "    display: none;\n",
              "    fill: var(--fill-color);\n",
              "    height: 32px;\n",
              "    padding: 0;\n",
              "    width: 32px;\n",
              "  }\n",
              "\n",
              "  .colab-df-quickchart:hover {\n",
              "    background-color: var(--hover-bg-color);\n",
              "    box-shadow: 0 1px 2px rgba(60, 64, 67, 0.3), 0 1px 3px 1px rgba(60, 64, 67, 0.15);\n",
              "    fill: var(--button-hover-fill-color);\n",
              "  }\n",
              "\n",
              "  .colab-df-quickchart-complete:disabled,\n",
              "  .colab-df-quickchart-complete:disabled:hover {\n",
              "    background-color: var(--disabled-bg-color);\n",
              "    fill: var(--disabled-fill-color);\n",
              "    box-shadow: none;\n",
              "  }\n",
              "\n",
              "  .colab-df-spinner {\n",
              "    border: 2px solid var(--fill-color);\n",
              "    border-color: transparent;\n",
              "    border-bottom-color: var(--fill-color);\n",
              "    animation:\n",
              "      spin 1s steps(1) infinite;\n",
              "  }\n",
              "\n",
              "  @keyframes spin {\n",
              "    0% {\n",
              "      border-color: transparent;\n",
              "      border-bottom-color: var(--fill-color);\n",
              "      border-left-color: var(--fill-color);\n",
              "    }\n",
              "    20% {\n",
              "      border-color: transparent;\n",
              "      border-left-color: var(--fill-color);\n",
              "      border-top-color: var(--fill-color);\n",
              "    }\n",
              "    30% {\n",
              "      border-color: transparent;\n",
              "      border-left-color: var(--fill-color);\n",
              "      border-top-color: var(--fill-color);\n",
              "      border-right-color: var(--fill-color);\n",
              "    }\n",
              "    40% {\n",
              "      border-color: transparent;\n",
              "      border-right-color: var(--fill-color);\n",
              "      border-top-color: var(--fill-color);\n",
              "    }\n",
              "    60% {\n",
              "      border-color: transparent;\n",
              "      border-right-color: var(--fill-color);\n",
              "    }\n",
              "    80% {\n",
              "      border-color: transparent;\n",
              "      border-right-color: var(--fill-color);\n",
              "      border-bottom-color: var(--fill-color);\n",
              "    }\n",
              "    90% {\n",
              "      border-color: transparent;\n",
              "      border-bottom-color: var(--fill-color);\n",
              "    }\n",
              "  }\n",
              "</style>\n",
              "\n",
              "  <script>\n",
              "    async function quickchart(key) {\n",
              "      const quickchartButtonEl =\n",
              "        document.querySelector('#' + key + ' button');\n",
              "      quickchartButtonEl.disabled = true;  // To prevent multiple clicks.\n",
              "      quickchartButtonEl.classList.add('colab-df-spinner');\n",
              "      try {\n",
              "        const charts = await google.colab.kernel.invokeFunction(\n",
              "            'suggestCharts', [key], {});\n",
              "      } catch (error) {\n",
              "        console.error('Error during call to suggestCharts:', error);\n",
              "      }\n",
              "      quickchartButtonEl.classList.remove('colab-df-spinner');\n",
              "      quickchartButtonEl.classList.add('colab-df-quickchart-complete');\n",
              "    }\n",
              "    (() => {\n",
              "      let quickchartButtonEl =\n",
              "        document.querySelector('#df-715306bf-4cb9-4ead-bec4-f1aab6b963d4 button');\n",
              "      quickchartButtonEl.style.display =\n",
              "        google.colab.kernel.accessAllowed ? 'block' : 'none';\n",
              "    })();\n",
              "  </script>\n",
              "</div>\n",
              "\n",
              "    </div>\n",
              "  </div>\n"
            ],
            "application/vnd.google.colaboratory.intrinsic+json": {
              "type": "dataframe",
              "variable_name": "dt",
              "summary": "{\n  \"name\": \"dt\",\n  \"rows\": 9900,\n  \"fields\": [\n    {\n      \"column\": \"Text\",\n      \"properties\": {\n        \"dtype\": \"string\",\n        \"num_unique_values\": 9865,\n        \"samples\": [\n          \" ICYMI: SNL Skewers \\u201cMorning Joe\\u201d And It Is Hilarious This week s cold open for Saturday Night Live featured a parody of the morning show, Morning Joe. The sketch featured Alex Moffat as host Joe Scarborough and Kate McKinnon as Mika Mika Brzezinski. The sketch also has Alec Baldwin as President Donald Trump, who calls into the show as  John Miller,  a spokesperson for the White House. Back in the day, Trump was known for calling reporters all over the New York area pretending to be his own publicist. He would call, not to tout his business successes but to brag about his sex life.The sketch also made fun of the relationship between the hosts. The pair got engaged recently when they were celebrating Mika s 50th birthday. The sketch shows the response from the other panelists on the show, Mark Halperin, Willie Geist and Mike Barnacle, who all have no idea how to respond to Joe and Mika s behavior on the set.Featured image via Frederick M. Brown/Getty Images.\",\n          \" BOMBSHELL: Information Suggests Trump Associates DID Collude With Russia, According To Officials Wednesday was not a good day to be Donald Trump. In the aftermath of the disastrous Comey hearing where it was confirmed that The Donald s team was indeed being investigated   and of Rep. Nunes  decision to skip informing his fellow congressional Russia investigators of perfectly legal  incidental collection  of information about Trump associates and possibly the President* himself and run to The Donald with it instead   Trump has been flailing, attempting to distract from the whole Russia thing as much as possible.That s going to be very hard now, as U.S. officials have now confirmed that the facts suggest that members of his team were indeed working with the enemy. CNN reports:The FBI has information that indicates associates of President Donald Trump communicated with suspected Russian operatives to possibly coordinate the release of information damaging to Hillary Clinton s campaign, US officials told CNN.\",\n          \" Vladimir Putin Just Defended Trump In The WORST Way Possible (VIDEO) According to Russian dictator Vladimir Putin, it s silly to worry about little things like whether or not a couple of Russian ladies peed on Donald Trump s bed because it s much, much worse to publish memos that reveal these allegations.Putin says that there is a conspiracy to  delegitimize  the man and his team of hackers, fake news writers, and trolls he worked hard to install in the Oval Office by hacking Trump s political opponents and running an aggressive propaganda campaign. I don t know Mr. Trump, I have never met him, I don t know what he will do in the international arena, so I have no reason either to attack him, criticize him or defend him, Putin said at a press conference. Donald Trump has been with the most beautiful women in the world, so why would he need prostitutes in Moscow? To answer that question, we need only look to a 2001 edition of the Howard Stern Show in which Trump was reminded that he bragged that he likes to go to Russia to have sex with women because they  have no morals. Putin says that Russian security services  do not chase every US billionaire,  and that the release of the documents was worse than prostitutes. In a way, he s right, as the documents presented to both Trump and President Obama also allege that members of the President-elect s campaign staff directly worked with the Russian government during the campaign.On numerous occasions, Trump has repeated Russian propaganda while attacking U.S. intelligence agencies that have been exposing him for what he is and, of course, has directly quoted Putin (a man whom Trump says is  very smart ) while hurling barbs at Hillary Clinton.Trump and Putin have been screaming about the  fake news  release of actual documents that actual intelligence agencies are in possession of, but the BBC reported recently that the whole pissing Russian ladies thing is just the tip of the iceberg. Correspondent Paul Wood revealed last week that at least four sources have confirmed the information, with one U.S. intelligence source informing him that there is audio and video of The Donald s escapades, and an Israeli news source reports that the country s spies have been warned against sharing information with the United States for fear that Trump will relay it to Putin.Putin and Trump s bromance is disconcerting at best   especially when more than a baker s dozen intelligence agencies have confirmed that the man who stood up to join Trump in his attacks on our intelligence agencies has been confirmed to have interfered in our election.Watch it below:Featured image via Getty Images\"\n        ],\n        \"semantic_type\": \"\",\n        \"description\": \"\"\n      }\n    },\n    {\n      \"column\": \"label\",\n      \"properties\": {\n        \"dtype\": \"category\",\n        \"num_unique_values\": 2,\n        \"samples\": [\n          \"Real\",\n          \"Fake\"\n        ],\n        \"semantic_type\": \"\",\n        \"description\": \"\"\n      }\n    }\n  ]\n}"
            }
          },
          "metadata": {},
          "execution_count": 19
        }
      ]
    },
    {
      "cell_type": "code",
      "source": [
        "# dt.drop(['id','title'],axis=1,inplace=True)\n",
        "# dt.head()"
      ],
      "metadata": {
        "id": "E00vrdMKyBYg"
      },
      "execution_count": null,
      "outputs": []
    },
    {
      "cell_type": "code",
      "source": [
        "dt.info()"
      ],
      "metadata": {
        "colab": {
          "base_uri": "https://localhost:8080/"
        },
        "id": "bfOljXzFZu1S",
        "outputId": "70cd1c2e-322f-41aa-d0a5-1bd51f46ce11",
        "collapsed": true
      },
      "execution_count": null,
      "outputs": [
        {
          "output_type": "stream",
          "name": "stdout",
          "text": [
            "<class 'pandas.core.frame.DataFrame'>\n",
            "RangeIndex: 9900 entries, 0 to 9899\n",
            "Data columns (total 2 columns):\n",
            " #   Column  Non-Null Count  Dtype \n",
            "---  ------  --------------  ----- \n",
            " 0   Text    9900 non-null   object\n",
            " 1   label   9900 non-null   object\n",
            "dtypes: object(2)\n",
            "memory usage: 154.8+ KB\n"
          ]
        }
      ]
    },
    {
      "cell_type": "code",
      "source": [
        "print(\"nulll values \\n\",dt.isnull().sum())\n",
        "print(\"duplication \\n\",dt.duplicated().sum())"
      ],
      "metadata": {
        "colab": {
          "base_uri": "https://localhost:8080/"
        },
        "id": "-8-NHFQfZ17Y",
        "outputId": "33337584-ae64-4b18-977b-011f346d2f1f",
        "collapsed": true
      },
      "execution_count": null,
      "outputs": [
        {
          "output_type": "stream",
          "name": "stdout",
          "text": [
            "nulll values \n",
            " Text     0\n",
            "label    0\n",
            "dtype: int64\n",
            "duplication \n",
            " 35\n"
          ]
        }
      ]
    },
    {
      "cell_type": "code",
      "source": [
        "# mode1=dt['text'].mode()[0]\n",
        "# dt.fillna(mode1,inplace=True)\n",
        "dt.drop_duplicates(inplace=True)\n",
        "# print(\"null values now\",dt.isnull().sum())\n",
        "print(\"duplication \\n\",dt.duplicated().sum())\n"
      ],
      "metadata": {
        "colab": {
          "base_uri": "https://localhost:8080/"
        },
        "id": "BjcZBcjBaT7o",
        "outputId": "9fc93daf-5a78-408d-b9d9-bdec3cc41c54",
        "collapsed": true
      },
      "execution_count": null,
      "outputs": [
        {
          "output_type": "stream",
          "name": "stdout",
          "text": [
            "duplication \n",
            " 0\n"
          ]
        }
      ]
    },
    {
      "cell_type": "code",
      "source": [
        "# dt['real']=pd.to_numeric(dt['real'], errors='coerce').astype(int)"
      ],
      "metadata": {
        "id": "Zj6Ld-_41S7M"
      },
      "execution_count": null,
      "outputs": []
    },
    {
      "cell_type": "code",
      "source": [
        "stemmer=PorterStemmer()\n",
        "lemmatizer=WordNetLemmatizer()\n",
        "corpus=[]\n",
        "for index,val in dt.iterrows():\n",
        "  review=re.sub(\"[^a-zA-z]\",'',dt['Text'][index])\n",
        "  review=review.lower()\n",
        "  review=review.split()\n",
        "  review=[stemmer.stem(word) for word in review if word not in stopwords.words('english')]\n",
        "  review=' '.join(review)\n",
        "  corpus.append(review)"
      ],
      "metadata": {
        "id": "SDbyGL1Nam98"
      },
      "execution_count": null,
      "outputs": []
    },
    {
      "cell_type": "code",
      "source": [
        "x=dt.loc[:,'Text']\n",
        "y=dt[\"label\"]\n",
        "print(x.shape,\",\",y.shape)"
      ],
      "metadata": {
        "id": "o6sSRm--cae8",
        "colab": {
          "base_uri": "https://localhost:8080/"
        },
        "outputId": "6949b175-d2b3-40f9-8ed3-8c83bc58a65e",
        "collapsed": true
      },
      "execution_count": null,
      "outputs": [
        {
          "output_type": "stream",
          "name": "stdout",
          "text": [
            "(9865,) , (9865,)\n"
          ]
        }
      ]
    },
    {
      "cell_type": "code",
      "source": [
        "from sklearn.feature_extraction.text import CountVectorizer\n",
        "from sklearn.feature_extraction.text import TfidfVectorizer\n",
        "cv=TfidfVectorizer(max_features=3500)\n",
        "# cv=CountVectorizer(max_features=3500)\n",
        "x=cv.fit_transform(corpus).toarray()\n",
        "print(x)\n",
        "print(x.shape)\n",
        "# enc=LabelEncoder()\n",
        "# x=enc.fit_transform(x)\n",
        "# print(x)"
      ],
      "metadata": {
        "id": "kAzWE90tdFJB",
        "colab": {
          "base_uri": "https://localhost:8080/"
        },
        "outputId": "0fdd0ae1-ce8d-4781-dbcb-bfcc1f92bcb7",
        "collapsed": true
      },
      "execution_count": null,
      "outputs": [
        {
          "output_type": "stream",
          "name": "stdout",
          "text": [
            "[[0. 0. 0. ... 0. 0. 0.]\n",
            " [0. 0. 0. ... 0. 0. 0.]\n",
            " [0. 0. 0. ... 0. 0. 0.]\n",
            " ...\n",
            " [0. 0. 0. ... 0. 0. 0.]\n",
            " [0. 0. 0. ... 0. 0. 0.]\n",
            " [0. 0. 0. ... 0. 0. 0.]]\n",
            "(9865, 3500)\n"
          ]
        }
      ]
    },
    {
      "cell_type": "code",
      "source": [
        "# sc=StandardScaler()\n",
        "# x=sc.fit_transform(x.reshape(-1,1))\n",
        "# print(x)"
      ],
      "metadata": {
        "id": "Yd9CVGrogzyp"
      },
      "execution_count": null,
      "outputs": []
    },
    {
      "cell_type": "code",
      "source": [
        "x_train,x_test,y_train,y_test=train_test_split(x,y,test_size=0.3,random_state=43)\n",
        "print(x_train.shape,\",\",x_test.shape)\n",
        "print(y_train)"
      ],
      "metadata": {
        "id": "QcCJgAk3kJ4C",
        "colab": {
          "base_uri": "https://localhost:8080/"
        },
        "outputId": "453b9b71-45a6-4f56-f566-e5f013c58bf3",
        "collapsed": true
      },
      "execution_count": null,
      "outputs": [
        {
          "output_type": "stream",
          "name": "stdout",
          "text": [
            "(6905, 3500) , (2960, 3500)\n",
            "7661    Fake\n",
            "242     Real\n",
            "1965    Real\n",
            "8099    Real\n",
            "545     Fake\n",
            "        ... \n",
            "8527    Fake\n",
            "2065    Fake\n",
            "8010    Real\n",
            "2305    Real\n",
            "3396    Fake\n",
            "Name: label, Length: 6905, dtype: object\n"
          ]
        }
      ]
    },
    {
      "cell_type": "code",
      "source": [
        "# param_grid={\n",
        "#     'alpha': [0.1, 0.5, 1.0, 5.0, 10.0],  # Smoothing parameter\n",
        "#     'fit_prior': [True, False]\n",
        "# }\n",
        "param_grid = {\n",
        "    'n_estimators': [100, 200, 300],\n",
        "    'max_depth': [10, 20, 30, None],\n",
        "    'min_samples_split': [2, 5, 10],\n",
        "    'min_samples_leaf': [1, 2, 4],\n",
        "    'bootstrap': [True, False]\n",
        "}\n",
        "gridsearch=GridSearchCV(estimator=RandomForestClassifier(),param_grid=param_grid,cv=5,scoring='accuracy')\n",
        "gridsearch.fit(x_train,y_train)\n",
        "print(\"Best Hyperparameters: \",gridsearch.best_params_)\n",
        "print(\"Best Accuracy Score: \",gridsearch.best_score_)"
      ],
      "metadata": {
        "id": "DMwRYbxE37IL"
      },
      "execution_count": null,
      "outputs": []
    },
    {
      "cell_type": "code",
      "source": [
        "classifier=RandomForestClassifier(criterion='gini',max_depth=100,n_estimators=100)\n",
        "classifier.fit(x_train,y_train)\n",
        "y_pred=classifier.predict(x_test)\n",
        "print(\"y_test is \\n\",y_test)\n",
        "print(\"y_pred is \\n\",y_pred)"
      ],
      "metadata": {
        "id": "VlLSEeF1kfHO"
      },
      "execution_count": null,
      "outputs": []
    },
    {
      "cell_type": "code",
      "source": [
        "print(\"the accuracy is: \\n\",accuracy_score(y_test,y_pred)*100,\"%\")\n",
        "print(\"classification report is: \\n\",classification_report(y_test,y_pred))\n",
        "print(\"confusion matrix \\n\",confusion_matrix(y_test,y_pred))"
      ],
      "metadata": {
        "id": "ONIto5gZu5QQ"
      },
      "execution_count": null,
      "outputs": []
    },
    {
      "cell_type": "code",
      "source": [
        "def prediction(n):\n",
        "  n=[n]\n",
        "  n=cv.transform(n).toarray()\n",
        "  pred=classifier.predict(n)\n",
        "  if pred==Real:\n",
        "    print(\"the news is real\")\n",
        "  else:\n",
        "    print(\"the news is fake\")\n",
        "\n",
        "n=input(\"enter the news: \")\n",
        "result=prediction(n)\n",
        "print(result)"
      ],
      "metadata": {
        "id": "yB79fXFN2qzv"
      },
      "execution_count": null,
      "outputs": []
    }
  ]
}